{
  "nbformat": 4,
  "nbformat_minor": 0,
  "metadata": {
    "colab": {
      "provenance": [],
      "authorship_tag": "ABX9TyN9MCZbXP9pMAAWS6Yk6BWq",
      "include_colab_link": true
    },
    "kernelspec": {
      "name": "python3",
      "display_name": "Python 3"
    },
    "language_info": {
      "name": "python"
    }
  },
  "cells": [
    {
      "cell_type": "markdown",
      "metadata": {
        "id": "view-in-github",
        "colab_type": "text"
      },
      "source": [
        "<a href=\"https://colab.research.google.com/github/maks11755/Pyth.Pract.Maks/blob/main/Lection5.%20ColabGoogle.ipynb\" target=\"_parent\"><img src=\"https://colab.research.google.com/assets/colab-badge.svg\" alt=\"Open In Colab\"/></a>"
      ]
    },
    {
      "cell_type": "code",
      "execution_count": null,
      "metadata": {
        "id": "UBu5FMoqCJ5s"
      },
      "outputs": [],
      "source": [
        "import pandas as pd"
      ]
    },
    {
      "cell_type": "code",
      "source": [
        "df = pd.read_csv('sample_data/california_housing_train.csv')"
      ],
      "metadata": {
        "id": "3SoaQh_nEqmP"
      },
      "execution_count": null,
      "outputs": []
    },
    {
      "cell_type": "code",
      "source": [
        "df.head(n = 5)"
      ],
      "metadata": {
        "id": "_BCrjhO3E_Aq"
      },
      "execution_count": null,
      "outputs": []
    },
    {
      "cell_type": "code",
      "source": [
        "df.tail()"
      ],
      "metadata": {
        "id": "JOKePYnaFwSO"
      },
      "execution_count": null,
      "outputs": []
    },
    {
      "cell_type": "code",
      "source": [
        "df.shape"
      ],
      "metadata": {
        "id": "wnbWd9VKFzzT"
      },
      "execution_count": null,
      "outputs": []
    },
    {
      "cell_type": "code",
      "source": [
        "df.isnull()"
      ],
      "metadata": {
        "id": "k76m7eEvF5Y2"
      },
      "execution_count": null,
      "outputs": []
    },
    {
      "cell_type": "code",
      "source": [
        "df.isnull().sum()"
      ],
      "metadata": {
        "id": "iCVvg-hSGBVd"
      },
      "execution_count": null,
      "outputs": []
    },
    {
      "cell_type": "code",
      "source": [
        "df.dtypes"
      ],
      "metadata": {
        "id": "cspbsqmwGIQY"
      },
      "execution_count": null,
      "outputs": []
    },
    {
      "cell_type": "code",
      "source": [
        "df.columns"
      ],
      "metadata": {
        "id": "DarKueBNGN_O"
      },
      "execution_count": null,
      "outputs": []
    },
    {
      "cell_type": "code",
      "source": [
        "df['latitude']"
      ],
      "metadata": {
        "id": "9DQiWP9uGRkT"
      },
      "execution_count": null,
      "outputs": []
    },
    {
      "cell_type": "code",
      "source": [
        "print(df['latitude'])\n",
        "print(df['population'])"
      ],
      "metadata": {
        "id": "BXBSDbdlGc51"
      },
      "execution_count": null,
      "outputs": []
    },
    {
      "cell_type": "code",
      "source": [
        "df[['latitude', 'population']]"
      ],
      "metadata": {
        "id": "e-AFboPLGnkE"
      },
      "execution_count": null,
      "outputs": []
    },
    {
      "cell_type": "code",
      "source": [
        "df[df['housing_median_age'] < 20]"
      ],
      "metadata": {
        "id": "_ouJb3LaGvGa"
      },
      "execution_count": null,
      "outputs": []
    },
    {
      "cell_type": "code",
      "source": [
        "df[(df['housing_median_age']) > 20 & (df['total_rooms'] > 1000)]"
      ],
      "metadata": {
        "id": "o7SRA2-nG6yp"
      },
      "execution_count": null,
      "outputs": []
    },
    {
      "cell_type": "code",
      "source": [
        "df[df['housing_median_age'] < 20] ['total_rooms']"
      ],
      "metadata": {
        "id": "bZ2hHp18HVET"
      },
      "execution_count": null,
      "outputs": []
    },
    {
      "cell_type": "code",
      "source": [
        "df[df['housing_median_age'] < 20] ['total_bedrooms']"
      ],
      "metadata": {
        "id": "C2_50TbLJ1kD"
      },
      "execution_count": null,
      "outputs": []
    },
    {
      "cell_type": "code",
      "source": [
        "print(df['population'].max())"
      ],
      "metadata": {
        "id": "Kj6d6YH8MfUs"
      },
      "execution_count": null,
      "outputs": []
    },
    {
      "cell_type": "code",
      "source": [
        "print(df['population'].min())"
      ],
      "metadata": {
        "id": "TZrBYV1wNOMr"
      },
      "execution_count": null,
      "outputs": []
    },
    {
      "cell_type": "code",
      "source": [
        "print(df['population'].mean())"
      ],
      "metadata": {
        "id": "ZcR1EZu5NUbO"
      },
      "execution_count": null,
      "outputs": []
    },
    {
      "cell_type": "code",
      "source": [
        "print(df['population'].sum())"
      ],
      "metadata": {
        "id": "7yJDf-QGNfEb"
      },
      "execution_count": null,
      "outputs": []
    },
    {
      "cell_type": "code",
      "source": [
        "df[['population', 'total_rooms']].median()"
      ],
      "metadata": {
        "id": "anVluwqzNlyo"
      },
      "execution_count": null,
      "outputs": []
    },
    {
      "cell_type": "code",
      "source": [
        "df.describe()"
      ],
      "metadata": {
        "id": "PGfpqmzzNxhN"
      },
      "execution_count": null,
      "outputs": []
    },
    {
      "cell_type": "code",
      "source": [
        "import seaborn as sns\n"
      ],
      "metadata": {
        "id": "iZnjOWkpN8Bo"
      },
      "execution_count": null,
      "outputs": []
    },
    {
      "cell_type": "code",
      "source": [
        "sns.scatterplot(data = df, x = 'longitude', y = 'latitude')"
      ],
      "metadata": {
        "id": "1zGZF1YjOCv9"
      },
      "execution_count": null,
      "outputs": []
    },
    {
      "cell_type": "code",
      "source": [
        "sns.scatterplot(data = df, x = 'households', y = 'population', hue = 'total_rooms')"
      ],
      "metadata": {
        "id": "zHxbw3dIOT2S"
      },
      "execution_count": null,
      "outputs": []
    },
    {
      "cell_type": "code",
      "source": [
        "sns.scatterplot(data = df, x = 'households', y = 'population', hue = 'total_bedrooms' )"
      ],
      "metadata": {
        "id": "meXuTh2xOlH0"
      },
      "execution_count": null,
      "outputs": []
    },
    {
      "cell_type": "code",
      "source": [
        "cols = ['population', 'median_income', 'housing_median_age', 'median_house_value']\n",
        "g = sns.PairGrid(df[cols])\n",
        "g.map(sns.scatterplot)"
      ],
      "metadata": {
        "id": "5BK5ijNYPArn"
      },
      "execution_count": null,
      "outputs": []
    },
    {
      "cell_type": "code",
      "source": [
        "sns.relplot(x = 'latitude', y = 'median_house_value', kind = 'line', data = df)"
      ],
      "metadata": {
        "id": "XyCPKIcpPy5u"
      },
      "execution_count": null,
      "outputs": []
    },
    {
      "cell_type": "code",
      "source": [
        "sns.relplot(x = 'longitude', y = 'median_house_value', kind = 'line', data = df)"
      ],
      "metadata": {
        "id": "cCqGUCFASjR-"
      },
      "execution_count": null,
      "outputs": []
    },
    {
      "cell_type": "code",
      "source": [
        "sns.scatterplot(data = df, x = 'latitude', y = 'longitude', hue = 'median_house_value')"
      ],
      "metadata": {
        "id": "em6uZe3nTHXt"
      },
      "execution_count": null,
      "outputs": []
    },
    {
      "cell_type": "code",
      "source": [
        "sns.histplot(data = df, x = 'median_income')"
      ],
      "metadata": {
        "id": "n6Wvw8v3TAlu"
      },
      "execution_count": null,
      "outputs": []
    },
    {
      "cell_type": "code",
      "source": [
        "sns.histplot(data = df, x = 'housing_median_age')"
      ],
      "metadata": {
        "id": "qPoEeZEyT6KL"
      },
      "execution_count": null,
      "outputs": []
    },
    {
      "cell_type": "code",
      "source": [
        "sns.histplot(data = df[df['housing_median_age'] > 50], x = 'median_income')"
      ],
      "metadata": {
        "id": "5J5pX11EUH90"
      },
      "execution_count": null,
      "outputs": []
    },
    {
      "cell_type": "code",
      "source": [
        "df.loc[df['housing_median_age'] <= 20, 'age_group'] = 'young'\n",
        "df.loc[df['housing_median_age'] > 20 & (df['housing_median_age'] <= 50), 'age_group'] = 'median age'\n",
        "df.loc[df['housing_median_age'] > 50, 'age_group'] = 'old'\n",
        "df.groupby('age_group')['median_income'].mean().plot(kind = 'bar')"
      ],
      "metadata": {
        "id": "A8fak2hjUqVh"
      },
      "execution_count": null,
      "outputs": []
    },
    {
      "cell_type": "code",
      "source": [
        "df.loc[df['median_income'] > 6, 'income_group'] = 'rich'\n",
        "df.loc[df['median_income'] > 6, 'income_group'] = 'everyone_else'\n",
        "sns.displot(df, x = 'median_house_value', hue = 'income_group')"
      ],
      "metadata": {
        "id": "TIungrKWXXM6"
      },
      "execution_count": null,
      "outputs": []
    }
  ]
}